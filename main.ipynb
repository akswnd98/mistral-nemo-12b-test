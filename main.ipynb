{
 "cells": [
  {
   "cell_type": "code",
   "execution_count": 1,
   "metadata": {},
   "outputs": [],
   "source": [
    "from langchain_community.llms.llamacpp import LlamaCpp\n",
    "from transformers import AutoTokenizer\n",
    "import torch\n",
    "\n",
    "gguf_path = './Mistral-Nemo-Instruct-2407-Q8_0.gguf'\n",
    "llm = LlamaCpp(\n",
    "  model_path=gguf_path,\n",
    "  n_gpu_layers=-1,\n",
    "  temperature=0,\n",
    "  n_ctx=10000,\n",
    "  verbose=False\n",
    ")\n",
    "tokenizer = AutoTokenizer.from_pretrained('./Mistral-Nemo-Instruct-2407')\n"
   ]
  },
  {
   "cell_type": "code",
   "execution_count": 2,
   "metadata": {},
   "outputs": [],
   "source": [
    "from langchain_core.runnables import RunnablePassthrough, RunnableLambda\n",
    "from runnables import generate_history_passthrough_function, generate_llm_function, MistralAgentOutputParser\n",
    "from langchain_core.output_parsers import JsonOutputParser\n",
    "from langchain.agents.output_parsers import JSONAgentOutputParser\n",
    "\n",
    "history_passthrough = RunnablePassthrough.assign(history=generate_history_passthrough_function())\n",
    "llm_runnable = RunnableLambda(generate_llm_function(tokenizer, llm))\n",
    "\n",
    "agent = history_passthrough | llm_runnable | MistralAgentOutputParser()\n"
   ]
  },
  {
   "cell_type": "code",
   "execution_count": 3,
   "metadata": {},
   "outputs": [
    {
     "name": "stderr",
     "output_type": "stream",
     "text": [
      "/home/akswnd98/anaconda3/envs/python-3.11/lib/python3.11/site-packages/llama_cpp/llama.py:1238: RuntimeWarning: Detected duplicate leading \"<s>\" in prompt, this will likely reduce response quality, consider removing it...\n",
      "  warnings.warn(\n"
     ]
    },
    {
     "name": "stdout",
     "output_type": "stream",
     "text": [
      "tool='get_current_weather' tool_input={'location': 'seoul', 'format': 'celsius'} log='no log'\n"
     ]
    }
   ],
   "source": [
    "output = agent.invoke({\n",
    "  'input': 'please tell me current weather in seoul',\n",
    "  'intermediate_steps': []\n",
    "})\n",
    "\n",
    "print(output)\n"
   ]
  },
  {
   "cell_type": "code",
   "execution_count": 4,
   "metadata": {},
   "outputs": [],
   "source": [
    "from langchain.agents import AgentExecutor\n",
    "from tools import get_current_weather, send_email, search_web\n",
    "\n",
    "tools = [\n",
    "  get_current_weather,\n",
    "  send_email,\n",
    "  search_web\n",
    "]\n",
    "agent_executor = AgentExecutor(agent=agent, tools=tools, verbose=True, handle_parsing_errors=True, max_iterations=5, return_intermediate_steps=True)\n"
   ]
  },
  {
   "cell_type": "code",
   "execution_count": 11,
   "metadata": {},
   "outputs": [
    {
     "name": "stdout",
     "output_type": "stream",
     "text": [
      "\n",
      "\n",
      "\u001b[1m> Entering new AgentExecutor chain...\u001b[0m\n"
     ]
    },
    {
     "name": "stderr",
     "output_type": "stream",
     "text": [
      "/home/akswnd98/anaconda3/envs/python-3.11/lib/python3.11/site-packages/llama_cpp/llama.py:1238: RuntimeWarning: Detected duplicate leading \"<s>\" in prompt, this will likely reduce response quality, consider removing it...\n",
      "  warnings.warn(\n"
     ]
    },
    {
     "name": "stdout",
     "output_type": "stream",
     "text": [
      "\u001b[32;1m\u001b[1;3mno log\u001b[0m\u001b[38;5;200m\u001b[1;3mthe average day time temperature of seoul is 32 degree celsius\u001b[0m"
     ]
    },
    {
     "name": "stderr",
     "output_type": "stream",
     "text": [
      "/home/akswnd98/anaconda3/envs/python-3.11/lib/python3.11/site-packages/llama_cpp/llama.py:1238: RuntimeWarning: Detected duplicate leading \"<s>\" in prompt, this will likely reduce response quality, consider removing it...\n",
      "  warnings.warn(\n"
     ]
    },
    {
     "name": "stdout",
     "output_type": "stream",
     "text": [
      "\u001b[32;1m\u001b[1;3mno log\u001b[0m\u001b[36;1m\u001b[1;3m38 degree\u001b[0m"
     ]
    },
    {
     "name": "stderr",
     "output_type": "stream",
     "text": [
      "/home/akswnd98/anaconda3/envs/python-3.11/lib/python3.11/site-packages/llama_cpp/llama.py:1238: RuntimeWarning: Detected duplicate leading \"<s>\" in prompt, this will likely reduce response quality, consider removing it...\n",
      "  warnings.warn(\n"
     ]
    },
    {
     "name": "stdout",
     "output_type": "stream",
     "text": [
      "\u001b[32;1m\u001b[1;3mno log\u001b[0m\u001b[33;1m\u001b[1;3memail sent successfully\u001b[0m"
     ]
    },
    {
     "name": "stderr",
     "output_type": "stream",
     "text": [
      "/home/akswnd98/anaconda3/envs/python-3.11/lib/python3.11/site-packages/llama_cpp/llama.py:1238: RuntimeWarning: Detected duplicate leading \"<s>\" in prompt, this will likely reduce response quality, consider removing it...\n",
      "  warnings.warn(\n"
     ]
    },
    {
     "name": "stdout",
     "output_type": "stream",
     "text": [
      "\u001b[32;1m\u001b[1;3mI have sent an email to aa@gmail.com about the temperature comparison result.\u001b[0m\n",
      "\n",
      "\u001b[1m> Finished chain.\u001b[0m\n"
     ]
    },
    {
     "data": {
      "text/plain": [
       "{'input': 'search about average temperature of seoul and compare to current temperature of seoul and send email about the result to aa@gmail.com.',\n",
       " 'output': 'I have sent an email to aa@gmail.com about the temperature comparison result.',\n",
       " 'intermediate_steps': [(AgentAction(tool='search_web', tool_input={'text': 'average temperature of seoul'}, log='no log'),\n",
       "   'the average day time temperature of seoul is 32 degree celsius'),\n",
       "  (AgentAction(tool='get_current_weather', tool_input={'location': 'seoul, KR', 'format': 'celsius'}, log='no log'),\n",
       "   '38 degree'),\n",
       "  (AgentAction(tool='send_email', tool_input={'address': 'aa@gmail.com', 'subject': 'Temperature Comparison Report', 'body': 'Current temperature in Seoul is 38 degree celsius, which is higher than the average day time temperature of 32 degree celsius.'}, log='no log'),\n",
       "   'email sent successfully')]}"
      ]
     },
     "execution_count": 11,
     "metadata": {},
     "output_type": "execute_result"
    }
   ],
   "source": [
    "output = agent_executor.invoke(\n",
    "  input={\n",
    "    'input': 'search about average temperature of seoul and compare to current temperature of seoul and send email about the result to aa@gmail.com.'\n",
    "  }\n",
    ")\n",
    "output\n"
   ]
  }
 ],
 "metadata": {
  "kernelspec": {
   "display_name": "python-3.11",
   "language": "python",
   "name": "python3"
  },
  "language_info": {
   "codemirror_mode": {
    "name": "ipython",
    "version": 3
   },
   "file_extension": ".py",
   "mimetype": "text/x-python",
   "name": "python",
   "nbconvert_exporter": "python",
   "pygments_lexer": "ipython3",
   "version": "3.11.9"
  }
 },
 "nbformat": 4,
 "nbformat_minor": 2
}
